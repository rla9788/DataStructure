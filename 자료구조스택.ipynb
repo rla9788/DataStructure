{
 "cells": [
  {
   "cell_type": "code",
   "execution_count": 1,
   "id": "b2eda2ae",
   "metadata": {},
   "outputs": [
    {
     "name": "stdout",
     "output_type": "stream",
     "text": [
      "(1)push (2)pop (3)print (4)exit: 2\n",
      "스택이 비어있습니다.\n",
      "(1)push (2)pop (3)print (4)exit: 1\n",
      "푸쉬, 현재 인덱스: 0, 값을 입력하세요: 1\n",
      "(1)push (2)pop (3)print (4)exit: 1\n",
      "푸쉬, 현재 인덱스: 1, 값을 입력하세요: 2\n",
      "(1)push (2)pop (3)print (4)exit: 1\n",
      "푸쉬, 현재 인덱스: 2, 값을 입력하세요: 3\n",
      "(1)push (2)pop (3)print (4)exit: 3\n",
      "3 \n",
      "2 \n",
      "1 \n",
      "(1)push (2)pop (3)print (4)exit: 2\n",
      "팝팝, 현재 인덱스: 1, 삭제되는 값: 3\n",
      "(1)push (2)pop (3)print (4)exit: 2\n",
      "팝팝, 현재 인덱스: 0, 삭제되는 값: 2\n",
      "(1)push (2)pop (3)print (4)exit: 2\n",
      "팝팝, 현재 인덱스: -1, 삭제되는 값: 1\n",
      "(1)push (2)pop (3)print (4)exit: 2\n",
      "스택이 비어있습니다.\n",
      "(1)push (2)pop (3)print (4)exit: 4\n"
     ]
    }
   ],
   "source": [
    "스택 = {}\n",
    "승현 = -1\n",
    "\n",
    "while True:\n",
    "    입력 = int(input(\"(1)push (2)pop (3)print (4)exit: \"))\n",
    "\n",
    "    if 입력 == 1:  # push\n",
    "        승현 += 1\n",
    "        스택[승현] = input(f\"푸쉬, 현재 인덱스: {승현}, 값을 입력하세요: \")\n",
    "        \n",
    "    elif 입력 == 2:  # pop\n",
    "        if 승현 == -1:\n",
    "            print(\"스택이 비어있습니다.\")\n",
    "        else:\n",
    "            print(f\"팝팝, 현재 인덱스: {승현-1}, 삭제되는 값: {스택[승현]}\")\n",
    "            승현 -= 1\n",
    "            \n",
    "    elif 입력 == 3:  # print\n",
    "        for i in range(승현, -1, -1):\n",
    "            print(스택[i]+' ')\n",
    "        \n",
    "    elif 입력 == 4:\n",
    "        break\n",
    "    else:\n",
    "        print(\"재미없어\")"
   ]
  },
  {
   "cell_type": "code",
   "execution_count": null,
   "id": "7dd50ae4",
   "metadata": {},
   "outputs": [],
   "source": []
  }
 ],
 "metadata": {
  "kernelspec": {
   "display_name": "Python 3 (ipykernel)",
   "language": "python",
   "name": "python3"
  },
  "language_info": {
   "codemirror_mode": {
    "name": "ipython",
    "version": 3
   },
   "file_extension": ".py",
   "mimetype": "text/x-python",
   "name": "python",
   "nbconvert_exporter": "python",
   "pygments_lexer": "ipython3",
   "version": "3.10.9"
  }
 },
 "nbformat": 4,
 "nbformat_minor": 5
}
